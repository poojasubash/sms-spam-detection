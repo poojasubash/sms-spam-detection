{
  "cells": [
    {
      "cell_type": "markdown",
      "metadata": {
        "id": "raQ6C5HfkIxW"
      },
      "source": [
        "##*SMS Spam Detection Using 7 Machine Learning Algorithms and Simple Bag of Words*\n",
        "\n"
      ]
    },
    {
      "cell_type": "markdown",
      "metadata": {
        "id": "smy5TrLukPit"
      },
      "source": [
        "###**1. Retrieve and Inspect Dataset** \n",
        "\n",
        "Let's download the dataset which is uploaded on my google drive. "
      ]
    },
    {
      "cell_type": "code",
      "execution_count": 1,
      "metadata": {
        "colab": {
          "base_uri": "https://localhost:8080/",
          "height": 86
        },
        "id": "aULghpJiFrFX",
        "outputId": "1293d6e8-053e-447d-9d36-e471067aee11"
      },
      "outputs": [
        {
          "name": "stdout",
          "output_type": "stream",
          "text": [
            "Downloading...\n",
            "From: https://drive.google.com/uc?id=1P-HE8p7bb9rS5HYvcIu2CXani_hM-IO7\n",
            "To: /content/spam.csv\n",
            "\r  0% 0.00/504k [00:00<?, ?B/s]\r100% 504k/504k [00:00<00:00, 72.0MB/s]\n"
          ]
        }
      ],
      "source": [
        "!gdown --id 1P-HE8p7bb9rS5HYvcIu2CXani_hM-IO7"
      ]
    },
    {
      "cell_type": "markdown",
      "metadata": {
        "id": "azBacnVvkRjy"
      },
      "source": [
        "We'll use `pandas` to parse the csv files. "
      ]
    },
    {
      "cell_type": "code",
      "execution_count": 2,
      "metadata": {
        "id": "QxbmwbmkkRS1"
      },
      "outputs": [],
      "source": [
        "import pandas as pd\n",
        "df = pd.read_csv('/content/spam.csv', encoding='latin-1')"
      ]
    },
    {
      "cell_type": "markdown",
      "metadata": {
        "id": "aptCtjZGkvTH"
      },
      "source": [
        "Let's take a look at the first few rows of the table just to see what's in there. "
      ]
    },
    {
      "cell_type": "code",
      "execution_count": 3,
      "metadata": {
        "colab": {
          "base_uri": "https://localhost:8080/",
          "height": 201
        },
        "id": "UExWvb-dxm5P",
        "outputId": "090f461c-9587-4e47-b559-5062b038ab2f"
      },
      "outputs": [
        {
          "data": {
            "text/html": [
              "<div>\n",
              "<style scoped>\n",
              "    .dataframe tbody tr th:only-of-type {\n",
              "        vertical-align: middle;\n",
              "    }\n",
              "\n",
              "    .dataframe tbody tr th {\n",
              "        vertical-align: top;\n",
              "    }\n",
              "\n",
              "    .dataframe thead th {\n",
              "        text-align: right;\n",
              "    }\n",
              "</style>\n",
              "<table border=\"1\" class=\"dataframe\">\n",
              "  <thead>\n",
              "    <tr style=\"text-align: right;\">\n",
              "      <th></th>\n",
              "      <th>v1</th>\n",
              "      <th>v2</th>\n",
              "      <th>Unnamed: 2</th>\n",
              "      <th>Unnamed: 3</th>\n",
              "      <th>Unnamed: 4</th>\n",
              "    </tr>\n",
              "  </thead>\n",
              "  <tbody>\n",
              "    <tr>\n",
              "      <th>0</th>\n",
              "      <td>ham</td>\n",
              "      <td>Go until jurong point, crazy.. Available only ...</td>\n",
              "      <td>NaN</td>\n",
              "      <td>NaN</td>\n",
              "      <td>NaN</td>\n",
              "    </tr>\n",
              "    <tr>\n",
              "      <th>1</th>\n",
              "      <td>ham</td>\n",
              "      <td>Ok lar... Joking wif u oni...</td>\n",
              "      <td>NaN</td>\n",
              "      <td>NaN</td>\n",
              "      <td>NaN</td>\n",
              "    </tr>\n",
              "    <tr>\n",
              "      <th>2</th>\n",
              "      <td>spam</td>\n",
              "      <td>Free entry in 2 a wkly comp to win FA Cup fina...</td>\n",
              "      <td>NaN</td>\n",
              "      <td>NaN</td>\n",
              "      <td>NaN</td>\n",
              "    </tr>\n",
              "    <tr>\n",
              "      <th>3</th>\n",
              "      <td>ham</td>\n",
              "      <td>U dun say so early hor... U c already then say...</td>\n",
              "      <td>NaN</td>\n",
              "      <td>NaN</td>\n",
              "      <td>NaN</td>\n",
              "    </tr>\n",
              "    <tr>\n",
              "      <th>4</th>\n",
              "      <td>ham</td>\n",
              "      <td>Nah I don't think he goes to usf, he lives aro...</td>\n",
              "      <td>NaN</td>\n",
              "      <td>NaN</td>\n",
              "      <td>NaN</td>\n",
              "    </tr>\n",
              "  </tbody>\n",
              "</table>\n",
              "</div>"
            ],
            "text/plain": [
              "     v1  ... Unnamed: 4\n",
              "0   ham  ...        NaN\n",
              "1   ham  ...        NaN\n",
              "2  spam  ...        NaN\n",
              "3   ham  ...        NaN\n",
              "4   ham  ...        NaN\n",
              "\n",
              "[5 rows x 5 columns]"
            ]
          },
          "execution_count": 3,
          "metadata": {
            "tags": []
          },
          "output_type": "execute_result"
        }
      ],
      "source": [
        "df.head() "
      ]
    },
    {
      "cell_type": "markdown",
      "metadata": {
        "id": "D8JNeOAqkzjQ"
      },
      "source": [
        "What's the shape of the dataframe?\n",
        " "
      ]
    },
    {
      "cell_type": "code",
      "execution_count": 4,
      "metadata": {
        "colab": {
          "base_uri": "https://localhost:8080/",
          "height": 34
        },
        "id": "PUaaZXVlkw_1",
        "outputId": "6d62b7de-3108-4ea0-f380-f3c33a4b268f"
      },
      "outputs": [
        {
          "data": {
            "text/plain": [
              "(5572, 5)"
            ]
          },
          "execution_count": 4,
          "metadata": {
            "tags": []
          },
          "output_type": "execute_result"
        }
      ],
      "source": [
        "df.shape "
      ]
    },
    {
      "cell_type": "markdown",
      "metadata": {
        "id": "CpF3X298k3XG"
      },
      "source": [
        "Does the dataframe contain any null row values? "
      ]
    },
    {
      "cell_type": "code",
      "execution_count": 5,
      "metadata": {
        "colab": {
          "base_uri": "https://localhost:8080/",
          "height": 121
        },
        "id": "4b5TlSjjk4aw",
        "outputId": "fc8db713-9bf4-4e80-875a-068aa472fc2d"
      },
      "outputs": [
        {
          "data": {
            "text/plain": [
              "v1               0\n",
              "v2               0\n",
              "Unnamed: 2    5522\n",
              "Unnamed: 3    5560\n",
              "Unnamed: 4    5566\n",
              "dtype: int64"
            ]
          },
          "execution_count": 5,
          "metadata": {
            "tags": []
          },
          "output_type": "execute_result"
        }
      ],
      "source": [
        "df.isnull().sum()  "
      ]
    },
    {
      "cell_type": "markdown",
      "metadata": {
        "id": "ATzGXebglIXo"
      },
      "source": [
        "Let's drop the Unwanted columns, and rename the columns to something we can understand."
      ]
    },
    {
      "cell_type": "code",
      "execution_count": 6,
      "metadata": {
        "id": "L1DVr1xQk5ZQ"
      },
      "outputs": [],
      "source": [
        "df = df.drop(['Unnamed: 2','Unnamed: 3','Unnamed: 4'],axis=1)\n",
        "df = df.rename(columns = {'v1':'label','v2':'message'}) "
      ]
    },
    {
      "cell_type": "markdown",
      "metadata": {
        "id": "tG8ZZGWDU8uF"
      },
      "source": [
        "Let's see how the dataframe looks like."
      ]
    },
    {
      "cell_type": "code",
      "execution_count": 7,
      "metadata": {
        "colab": {
          "base_uri": "https://localhost:8080/",
          "height": 201
        },
        "id": "2mhBJKY4k_lw",
        "outputId": "ec00e08e-4534-4fc1-c3f2-e6a5df56f732"
      },
      "outputs": [
        {
          "data": {
            "text/html": [
              "<div>\n",
              "<style scoped>\n",
              "    .dataframe tbody tr th:only-of-type {\n",
              "        vertical-align: middle;\n",
              "    }\n",
              "\n",
              "    .dataframe tbody tr th {\n",
              "        vertical-align: top;\n",
              "    }\n",
              "\n",
              "    .dataframe thead th {\n",
              "        text-align: right;\n",
              "    }\n",
              "</style>\n",
              "<table border=\"1\" class=\"dataframe\">\n",
              "  <thead>\n",
              "    <tr style=\"text-align: right;\">\n",
              "      <th></th>\n",
              "      <th>label</th>\n",
              "      <th>message</th>\n",
              "    </tr>\n",
              "  </thead>\n",
              "  <tbody>\n",
              "    <tr>\n",
              "      <th>0</th>\n",
              "      <td>ham</td>\n",
              "      <td>Go until jurong point, crazy.. Available only ...</td>\n",
              "    </tr>\n",
              "    <tr>\n",
              "      <th>1</th>\n",
              "      <td>ham</td>\n",
              "      <td>Ok lar... Joking wif u oni...</td>\n",
              "    </tr>\n",
              "    <tr>\n",
              "      <th>2</th>\n",
              "      <td>spam</td>\n",
              "      <td>Free entry in 2 a wkly comp to win FA Cup fina...</td>\n",
              "    </tr>\n",
              "    <tr>\n",
              "      <th>3</th>\n",
              "      <td>ham</td>\n",
              "      <td>U dun say so early hor... U c already then say...</td>\n",
              "    </tr>\n",
              "    <tr>\n",
              "      <th>4</th>\n",
              "      <td>ham</td>\n",
              "      <td>Nah I don't think he goes to usf, he lives aro...</td>\n",
              "    </tr>\n",
              "  </tbody>\n",
              "</table>\n",
              "</div>"
            ],
            "text/plain": [
              "  label                                            message\n",
              "0   ham  Go until jurong point, crazy.. Available only ...\n",
              "1   ham                      Ok lar... Joking wif u oni...\n",
              "2  spam  Free entry in 2 a wkly comp to win FA Cup fina...\n",
              "3   ham  U dun say so early hor... U c already then say...\n",
              "4   ham  Nah I don't think he goes to usf, he lives aro..."
            ]
          },
          "execution_count": 7,
          "metadata": {
            "tags": []
          },
          "output_type": "execute_result"
        }
      ],
      "source": [
        "df.head() "
      ]
    },
    {
      "cell_type": "markdown",
      "metadata": {
        "id": "WIWdLwsZEvd4"
      },
      "source": [
        "Let's drop the duplicate rows present in the dataset."
      ]
    },
    {
      "cell_type": "code",
      "execution_count": 8,
      "metadata": {
        "id": "oqMl_hTLEwva"
      },
      "outputs": [],
      "source": [
        "df.drop_duplicates(subset =\"message\", keep = False, inplace = True) "
      ]
    },
    {
      "cell_type": "markdown",
      "metadata": {
        "id": "XiDJnM-GVOsh"
      },
      "source": [
        "Did the data points reduce?"
      ]
    },
    {
      "cell_type": "code",
      "execution_count": 9,
      "metadata": {
        "colab": {
          "base_uri": "https://localhost:8080/",
          "height": 34
        },
        "id": "bg2kkh9kE6UY",
        "outputId": "46db5f7c-b621-491b-ee6d-a17139603ae0"
      },
      "outputs": [
        {
          "data": {
            "text/plain": [
              "(4888, 2)"
            ]
          },
          "execution_count": 9,
          "metadata": {
            "tags": []
          },
          "output_type": "execute_result"
        }
      ],
      "source": [
        "df.shape"
      ]
    },
    {
      "cell_type": "markdown",
      "metadata": {
        "id": "pPRKpW95VRXU"
      },
      "source": [
        "YESS!! That means we had a few duplicate data points, but now they are removed. We'll mapping 0 and 1 values for the labels."
      ]
    },
    {
      "cell_type": "code",
      "execution_count": 10,
      "metadata": {
        "id": "NDVvOSRxtMJi"
      },
      "outputs": [],
      "source": [
        "df['label'] = df['label'].map({'ham': 0, 'spam': 1}) "
      ]
    },
    {
      "cell_type": "markdown",
      "metadata": {
        "id": "mMLbdpydVcBj"
      },
      "source": [
        "Let's see the length of each message."
      ]
    },
    {
      "cell_type": "code",
      "execution_count": 11,
      "metadata": {
        "colab": {
          "base_uri": "https://localhost:8080/",
          "height": 201
        },
        "id": "T2alVtRUlPix",
        "outputId": "a46a6977-73c8-4edb-d4cf-72d652d6dda0"
      },
      "outputs": [
        {
          "data": {
            "text/html": [
              "<div>\n",
              "<style scoped>\n",
              "    .dataframe tbody tr th:only-of-type {\n",
              "        vertical-align: middle;\n",
              "    }\n",
              "\n",
              "    .dataframe tbody tr th {\n",
              "        vertical-align: top;\n",
              "    }\n",
              "\n",
              "    .dataframe thead th {\n",
              "        text-align: right;\n",
              "    }\n",
              "</style>\n",
              "<table border=\"1\" class=\"dataframe\">\n",
              "  <thead>\n",
              "    <tr style=\"text-align: right;\">\n",
              "      <th></th>\n",
              "      <th>label</th>\n",
              "      <th>message</th>\n",
              "      <th>length</th>\n",
              "    </tr>\n",
              "  </thead>\n",
              "  <tbody>\n",
              "    <tr>\n",
              "      <th>0</th>\n",
              "      <td>0</td>\n",
              "      <td>Go until jurong point, crazy.. Available only ...</td>\n",
              "      <td>111</td>\n",
              "    </tr>\n",
              "    <tr>\n",
              "      <th>1</th>\n",
              "      <td>0</td>\n",
              "      <td>Ok lar... Joking wif u oni...</td>\n",
              "      <td>29</td>\n",
              "    </tr>\n",
              "    <tr>\n",
              "      <th>3</th>\n",
              "      <td>0</td>\n",
              "      <td>U dun say so early hor... U c already then say...</td>\n",
              "      <td>49</td>\n",
              "    </tr>\n",
              "    <tr>\n",
              "      <th>4</th>\n",
              "      <td>0</td>\n",
              "      <td>Nah I don't think he goes to usf, he lives aro...</td>\n",
              "      <td>61</td>\n",
              "    </tr>\n",
              "    <tr>\n",
              "      <th>5</th>\n",
              "      <td>1</td>\n",
              "      <td>FreeMsg Hey there darling it's been 3 week's n...</td>\n",
              "      <td>148</td>\n",
              "    </tr>\n",
              "  </tbody>\n",
              "</table>\n",
              "</div>"
            ],
            "text/plain": [
              "   label                                            message  length\n",
              "0      0  Go until jurong point, crazy.. Available only ...     111\n",
              "1      0                      Ok lar... Joking wif u oni...      29\n",
              "3      0  U dun say so early hor... U c already then say...      49\n",
              "4      0  Nah I don't think he goes to usf, he lives aro...      61\n",
              "5      1  FreeMsg Hey there darling it's been 3 week's n...     148"
            ]
          },
          "execution_count": 11,
          "metadata": {
            "tags": []
          },
          "output_type": "execute_result"
        }
      ],
      "source": [
        "df['length'] = df['message'].apply(len)\n",
        "df.head() "
      ]
    },
    {
      "cell_type": "markdown",
      "metadata": {
        "id": "A9_yLk9KssjG"
      },
      "source": [
        "##**2. Visualization** "
      ]
    },
    {
      "cell_type": "markdown",
      "metadata": {
        "id": "UlMGvjG5sujf"
      },
      "source": [
        "Basic Imports for visualization. "
      ]
    },
    {
      "cell_type": "code",
      "execution_count": 12,
      "metadata": {
        "id": "sSMFJwwcswCs"
      },
      "outputs": [],
      "source": [
        "import matplotlib.pyplot as plt\n",
        "import seaborn as sns "
      ]
    },
    {
      "cell_type": "markdown",
      "metadata": {
        "id": "3pG6N9hzVpRW"
      },
      "source": [
        "Let's visualize it a little further using matplotlib."
      ]
    },
    {
      "cell_type": "code",
      "execution_count": 13,
      "metadata": {
        "colab": {
          "base_uri": "https://localhost:8080/",
          "height": 513
        },
        "id": "Hf6YjpDXs0nx",
        "outputId": "b3c7b92f-0993-4d13-8952-14cf2131461b"
      },
      "outputs": [
        {
          "data": {
            "image/png": "[encoded data removed]",
            "text/plain": [
              "<Figure size 576x576 with 1 Axes>"
            ]
          },
          "metadata": {
            "needs_background": "light",
            "tags": []
          },
          "output_type": "display_data"
        }
      ],
      "source": [
        "# Countplot for Spam vs. Ham as balanced dataset\n",
        "plt.figure(figsize=(8,8))\n",
        "g = sns.countplot(x='label', data=df)\n",
        "p = plt.title('Countplot for Spam vs. Ham as balanced dataset', fontweight='bold')\n",
        "p = plt.xlabel('Is SMS Spam?', fontweight='bold')\n",
        "p = plt.ylabel('Count', fontweight='bold')  "
      ]
    },
    {
      "cell_type": "code",
      "execution_count": 14,
      "metadata": {
        "colab": {
          "base_uri": "https://localhost:8080/",
          "height": 344
        },
        "id": "5enUHPLBlXrA",
        "outputId": "afe14a92-9341-41f7-d7c4-fad0c7d748a4"
      },
      "outputs": [
        {
          "data": {
            "image/png": "[encoded data removed]",
            "text/plain": [
              "<Figure size 792x360 with 2 Axes>"
            ]
          },
          "metadata": {
            "tags": []
          },
          "output_type": "display_data"
        }
      ],
      "source": [
        "plt.rcParams['patch.force_edgecolor'] = True\n",
        "plt.style.use('ggplot')\n",
        "df.hist(column='length', by='label', bins=50, figsize=(11,5));"
      ]
    },
    {
      "cell_type": "markdown",
      "metadata": {
        "id": "GIVOGQDZV1xC"
      },
      "source": [
        "Now, let's do some basic statistical analysis of the attributes."
      ]
    },
    {
      "cell_type": "code",
      "execution_count": 15,
      "metadata": {
        "colab": {
          "base_uri": "https://localhost:8080/",
          "height": 520
        },
        "id": "mf9A4re5lfYB",
        "outputId": "7926fce1-8e7a-420d-a594-a435bd33c838"
      },
      "outputs": [
        {
          "name": "stdout",
          "output_type": "stream",
          "text": [
            "Basic Statistics for Feature: label\n",
            "count    4888.000000\n",
            "mean        0.115794\n",
            "std         0.320010\n",
            "min         0.000000\n",
            "25%         0.000000\n",
            "50%         0.000000\n",
            "75%         0.000000\n",
            "max         1.000000\n",
            "Name: label, dtype: float64\n",
            "==========================================\n",
            "Basic Statistics for Feature: message\n",
            "count                   4888\n",
            "unique                  4888\n",
            "top       Ok i juz receive..\n",
            "freq                       1\n",
            "Name: message, dtype: object\n",
            "==========================================\n",
            "Basic Statistics for Feature: length\n",
            "count    4888.000000\n",
            "mean       77.338380\n",
            "std        56.812841\n",
            "min         3.000000\n",
            "25%        36.000000\n",
            "50%        59.000000\n",
            "75%       112.000000\n",
            "max       910.000000\n",
            "Name: length, dtype: float64\n",
            "==========================================\n"
          ]
        }
      ],
      "source": [
        "for i in df.columns:\n",
        "  print(\"Basic Statistics for Feature: {0}\".format(i))\n",
        "  print(df[i].describe())\n",
        "  print(\"==========================================\")"
      ]
    },
    {
      "cell_type": "markdown",
      "metadata": {
        "id": "YNFf4UIbWOT-"
      },
      "source": [
        "##**2. NLTK**\n",
        "\n",
        "We'll use nltk stopwords to remove words which provide us no valuable information."
      ]
    },
    {
      "cell_type": "code",
      "execution_count": 16,
      "metadata": {
        "colab": {
          "base_uri": "https://localhost:8080/",
          "height": 69
        },
        "id": "fzgF6L-1Fqut",
        "outputId": "c6ee8cb0-a98b-4f4f-aab9-75f7aea8427a"
      },
      "outputs": [
        {
          "name": "stdout",
          "output_type": "stream",
          "text": [
            "[nltk_data] Downloading package stopwords to /root/nltk_data...\n",
            "[nltk_data]   Unzipping corpora/stopwords.zip.\n"
          ]
        },
        {
          "data": {
            "text/plain": [
              "True"
            ]
          },
          "execution_count": 16,
          "metadata": {
            "tags": []
          },
          "output_type": "execute_result"
        }
      ],
      "source": [
        "import nltk \n",
        "from nltk.corpus import stopwords\n",
        "nltk.download('stopwords')"
      ]
    },
    {
      "cell_type": "markdown",
      "metadata": {
        "id": "owkW2mUnWa1r"
      },
      "source": [
        "Next, I'll write a helper function which will preprocess our texts."
      ]
    },
    {
      "cell_type": "code",
      "execution_count": 17,
      "metadata": {
        "id": "iA5H2sLGFqq4"
      },
      "outputs": [],
      "source": [
        "import string\n",
        "def process_text(text):\n",
        "  nopunc = [char for char in text if char not in string.punctuation]\n",
        "  nopunc = ''.join(nopunc)\n",
        "\n",
        "  clean_words = [word for word in nopunc.split() if word.lower() not in stopwords.words('english')]\n",
        "\n",
        "  return clean_words "
      ]
    },
    {
      "cell_type": "markdown",
      "metadata": {
        "id": "K9_3EC-PWmb6"
      },
      "source": [
        "Let's apply this function to the complete dataset."
      ]
    },
    {
      "cell_type": "code",
      "execution_count": 18,
      "metadata": {
        "colab": {
          "base_uri": "https://localhost:8080/",
          "height": 121
        },
        "id": "gSVMWzxtFqpQ",
        "outputId": "b767dcc4-7f87-491d-cdf7-5e640b9d1615"
      },
      "outputs": [
        {
          "data": {
            "text/plain": [
              "0    [Go, jurong, point, crazy, Available, bugis, n...\n",
              "1                       [Ok, lar, Joking, wif, u, oni]\n",
              "3        [U, dun, say, early, hor, U, c, already, say]\n",
              "4    [Nah, dont, think, goes, usf, lives, around, t...\n",
              "5    [FreeMsg, Hey, darling, 3, weeks, word, back, ...\n",
              "Name: message, dtype: object"
            ]
          },
          "execution_count": 18,
          "metadata": {
            "tags": []
          },
          "output_type": "execute_result"
        }
      ],
      "source": [
        "df['message'].head().apply(process_text)"
      ]
    },
    {
      "cell_type": "markdown",
      "metadata": {
        "id": "rJjeENzOTx4p"
      },
      "source": [
        "##**3. Bag Of Words**\n",
        "\n",
        "Let's convert all our text in the dataframe to a bag of words matrix."
      ]
    },
    {
      "cell_type": "code",
      "execution_count": 34,
      "metadata": {
        "id": "xenv8WgkFqmC"
      },
      "outputs": [],
      "source": [
        "import pickle\n",
        "from sklearn.feature_extraction.text import CountVectorizer\n",
        "cv = CountVectorizer(analyzer=process_text)\n",
        "message_bow = cv.fit_transform(df['message'])\n",
        "\n",
        "# Creating a pickle file for the text transformation\n",
        "pickle.dump(cv, open('cv-transform.pkl', 'wb'))"
      ]
    },
    {
      "cell_type": "markdown",
      "metadata": {
        "id": "ei9Py3KCW7JZ"
      },
      "source": [
        "Let's see how many unique tokens (without stopwords) are made by CountVectorizer."
      ]
    },
    {
      "cell_type": "code",
      "execution_count": 20,
      "metadata": {
        "colab": {
          "base_uri": "https://localhost:8080/",
          "height": 34
        },
        "id": "PnZ9MDNZG-mi",
        "outputId": "1991f916-51d8-4d60-9b2a-b548ffe28afc"
      },
      "outputs": [
        {
          "data": {
            "text/plain": [
              "(4888, 10596)"
            ]
          },
          "execution_count": 20,
          "metadata": {
            "tags": []
          },
          "output_type": "execute_result"
        }
      ],
      "source": [
        "message_bow.shape"
      ]
    },
    {
      "cell_type": "markdown",
      "metadata": {
        "id": "471-0LCyXE2g"
      },
      "source": [
        "Let's split the data into training and validation sets."
      ]
    },
    {
      "cell_type": "code",
      "execution_count": 21,
      "metadata": {
        "id": "ngDBRAziG-tp"
      },
      "outputs": [],
      "source": [
        "from sklearn.model_selection import train_test_split\n",
        "X_train, x_validation, Y_train, y_validation = train_test_split(message_bow,\n",
        "                                                                df['label'],\n",
        "                                                                test_size=0.2,\n",
        "                                                                stratify=df['label'],\n",
        "                                                                random_state=0) "
      ]
    },
    {
      "cell_type": "markdown",
      "metadata": {
        "id": "LnEqEdCGXM8v"
      },
      "source": [
        "##**4. Machine Learning Algorithms**\n",
        "\n",
        "Let's import all the ML algorithms we'll be using in this notebook."
      ]
    },
    {
      "cell_type": "code",
      "execution_count": 22,
      "metadata": {
        "id": "oQc5574nG5-U"
      },
      "outputs": [],
      "source": [
        "from sklearn.linear_model import LogisticRegression\n",
        "from sklearn.svm import SVC\n",
        "from sklearn.naive_bayes import MultinomialNB\n",
        "from sklearn.tree import DecisionTreeClassifier\n",
        "from sklearn.neighbors import KNeighborsClassifier\n",
        "from sklearn.ensemble import RandomForestClassifier\n",
        "from sklearn.ensemble import ExtraTreesClassifier"
      ]
    },
    {
      "cell_type": "markdown",
      "metadata": {
        "id": "5sbKJTa9XYu8"
      },
      "source": [
        "Here is something very interesting, I'll write a utility function which will input all the algorithms with the model parameters. We'll use ShuffleSplit and GridSearchCV for finding which ML algorithm (and their respective parameters) works best for this task."
      ]
    },
    {
      "cell_type": "code",
      "execution_count": 23,
      "metadata": {
        "colab": {
          "base_uri": "https://localhost:8080/",
          "height": 263
        },
        "id": "qooEM2SoH4Pv",
        "outputId": "1a4d5b50-d379-47b2-c2e3-97571c33b164"
      },
      "outputs": [
        {
          "data": {
            "text/html": [
              "<div>\n",
              "<style scoped>\n",
              "    .dataframe tbody tr th:only-of-type {\n",
              "        vertical-align: middle;\n",
              "    }\n",
              "\n",
              "    .dataframe tbody tr th {\n",
              "        vertical-align: top;\n",
              "    }\n",
              "\n",
              "    .dataframe thead th {\n",
              "        text-align: right;\n",
              "    }\n",
              "</style>\n",
              "<table border=\"1\" class=\"dataframe\">\n",
              "  <thead>\n",
              "    <tr style=\"text-align: right;\">\n",
              "      <th></th>\n",
              "      <th>model</th>\n",
              "      <th>best_parameters</th>\n",
              "      <th>score</th>\n",
              "    </tr>\n",
              "  </thead>\n",
              "  <tbody>\n",
              "    <tr>\n",
              "      <th>0</th>\n",
              "      <td>Logistic_Regression</td>\n",
              "      <td>{'C': 10}</td>\n",
              "      <td>0.972963</td>\n",
              "    </tr>\n",
              "    <tr>\n",
              "      <th>1</th>\n",
              "      <td>Decision_Tree</td>\n",
              "      <td>{'criterion': 'gini', 'max_depth': 10}</td>\n",
              "      <td>0.948118</td>\n",
              "    </tr>\n",
              "    <tr>\n",
              "      <th>2</th>\n",
              "      <td>Random_Forest</td>\n",
              "      <td>{'n_estimators': 50}</td>\n",
              "      <td>0.962185</td>\n",
              "    </tr>\n",
              "    <tr>\n",
              "      <th>3</th>\n",
              "      <td>SVM</td>\n",
              "      <td>{'C': 1, 'kernel': 'linear'}</td>\n",
              "      <td>0.975703</td>\n",
              "    </tr>\n",
              "    <tr>\n",
              "      <th>4</th>\n",
              "      <td>Multinomial_Naive_Bayes</td>\n",
              "      <td>{'alpha': 3}</td>\n",
              "      <td>0.972598</td>\n",
              "    </tr>\n",
              "    <tr>\n",
              "      <th>5</th>\n",
              "      <td>KNN</td>\n",
              "      <td>{'n_neighbors': 1}</td>\n",
              "      <td>0.933687</td>\n",
              "    </tr>\n",
              "    <tr>\n",
              "      <th>6</th>\n",
              "      <td>Extra_Tree</td>\n",
              "      <td>{'criterion': 'gini', 'max_depth': 30, 'n_esti...</td>\n",
              "      <td>0.936975</td>\n",
              "    </tr>\n",
              "  </tbody>\n",
              "</table>\n",
              "</div>"
            ],
            "text/plain": [
              "                     model  ...     score\n",
              "0      Logistic_Regression  ...  0.972963\n",
              "1            Decision_Tree  ...  0.948118\n",
              "2            Random_Forest  ...  0.962185\n",
              "3                      SVM  ...  0.975703\n",
              "4  Multinomial_Naive_Bayes  ...  0.972598\n",
              "5                      KNN  ...  0.933687\n",
              "6               Extra_Tree  ...  0.936975\n",
              "\n",
              "[7 rows x 3 columns]"
            ]
          },
          "execution_count": 23,
          "metadata": {
            "tags": []
          },
          "output_type": "execute_result"
        }
      ],
      "source": [
        "from sklearn.model_selection import GridSearchCV, ShuffleSplit\n",
        "\n",
        "\n",
        "def find_best_model(X, y):\n",
        "    models = {\n",
        "        'Logistic_Regression': {\n",
        "            'model': LogisticRegression(solver='lbfgs', multi_class='auto'),\n",
        "            'parameters': {\n",
        "                'C': [1,5,10]\n",
        "               }\n",
        "        },\n",
        "        \n",
        "        'Decision_Tree': {\n",
        "            'model': DecisionTreeClassifier(splitter='best'),\n",
        "            'parameters': {\n",
        "                'criterion': ['gini', 'entropy'],\n",
        "                'max_depth': [5, 10]\n",
        "            }\n",
        "        },\n",
        "        \n",
        "        'Random_Forest': {\n",
        "            'model': RandomForestClassifier(criterion='gini'),\n",
        "            'parameters': {\n",
        "                'n_estimators': [10,15,20,50,100,200]\n",
        "            }\n",
        "        },\n",
        "        \n",
        "        'SVM': {\n",
        "            'model': SVC(gamma='auto'),\n",
        "            'parameters': {\n",
        "                'C': [1,10,20],\n",
        "                'kernel': ['rbf','linear']\n",
        "            }\n",
        "        },\n",
        "\n",
        "        'Multinomial_Naive_Bayes': {\n",
        "            'model': MultinomialNB(),\n",
        "            'parameters': {\n",
        "                'alpha': [0.5, 1, 2, 3, 5, 10]\n",
        "            }\n",
        "        },\n",
        "\n",
        "        'KNN': {\n",
        "            'model': KNeighborsClassifier(),\n",
        "            'parameters': {\n",
        "                'n_neighbors': [1, 2, 3, 4, 5, 6, 8, 10, 20]\n",
        "            }\n",
        "        },\n",
        "\n",
        "        'Extra_Tree': {\n",
        "            'model': ExtraTreesClassifier(),\n",
        "            'parameters': {\n",
        "                'n_estimators': [1, 5, 10, 20, 30, 40, 50, 60, 70, 100, 150, 200],\n",
        "                'max_depth': [1, 2, 5, 6, 7, 8, 10, 20, 30],\n",
        "                'criterion': ['gini', 'entropy']\n",
        "            }\n",
        "        }\n",
        "\n",
        "    }\n",
        "\n",
        "    scores = [] \n",
        "    cv_shuffle = ShuffleSplit(n_splits=7, test_size=0.20, random_state=0)\n",
        "        \n",
        "    for model_name, model_params in models.items():\n",
        "        gs = GridSearchCV(model_params['model'], model_params['parameters'], cv = cv_shuffle, return_train_score=False)\n",
        "        gs.fit(X, y)\n",
        "        scores.append({\n",
        "            'model': model_name,\n",
        "            'best_parameters': gs.best_params_,\n",
        "            'score': gs.best_score_\n",
        "        })\n",
        "        \n",
        "    return pd.DataFrame(scores, columns=['model','best_parameters','score'])\n",
        "\n",
        "find_best_model(X_train, Y_train)"
      ]
    },
    {
      "cell_type": "markdown",
      "metadata": {
        "id": "NkE2fqlZX5DY"
      },
      "source": [
        "The results are quite interesting, I thought the Multinomial Naive Bayes Algorithm will be the best for this task, but Support Vector Machine is the best as it has the highest score. So we'll create 2 final classifiers and evaluate each classifiers metrics. "
      ]
    },
    {
      "cell_type": "markdown",
      "metadata": {
        "id": "JsUGjWIojtap"
      },
      "source": [
        "##**5. Support Vector Machine**"
      ]
    },
    {
      "cell_type": "code",
      "execution_count": 24,
      "metadata": {
        "colab": {
          "base_uri": "https://localhost:8080/",
          "height": 86
        },
        "id": "1mJpOub9KAiF",
        "outputId": "f6ef1c9f-4a32-40dd-9c50-ce6a41f5e293"
      },
      "outputs": [
        {
          "data": {
            "text/plain": [
              "SVC(C=1.0, break_ties=False, cache_size=200, class_weight=None, coef0=0.0,\n",
              "    decision_function_shape='ovr', degree=3, gamma='scale', kernel='linear',\n",
              "    max_iter=-1, probability=False, random_state=None, shrinking=True,\n",
              "    tol=0.001, verbose=False)"
            ]
          },
          "execution_count": 24,
          "metadata": {
            "tags": []
          },
          "output_type": "execute_result"
        }
      ],
      "source": [
        "# Creating Support Vector Machine Model\n",
        "classifier = SVC(C=1.0, kernel='linear')\n",
        "classifier.fit(X_train, Y_train)"
      ]
    },
    {
      "cell_type": "markdown",
      "metadata": {
        "id": "rUpUYB0sYdWZ"
      },
      "source": [
        "##**6. Model Metrics (SVM)**\n",
        "Now since our model is trained, let's print out the model metrics which will define how good our model is actually doing."
      ]
    },
    {
      "cell_type": "code",
      "execution_count": 25,
      "metadata": {
        "colab": {
          "base_uri": "https://localhost:8080/",
          "height": 277
        },
        "id": "vUjrkccxNw9T",
        "outputId": "ce41aee2-3bf8-47ac-88da-14fd32e1c178"
      },
      "outputs": [
        {
          "name": "stdout",
          "output_type": "stream",
          "text": [
            "              precision    recall  f1-score   support\n",
            "\n",
            "           0       1.00      1.00      1.00      3457\n",
            "           1       1.00      1.00      1.00       453\n",
            "\n",
            "    accuracy                           1.00      3910\n",
            "   macro avg       1.00      1.00      1.00      3910\n",
            "weighted avg       1.00      1.00      1.00      3910\n",
            "\n",
            "\n",
            "Confusion Matrix: \n",
            " [[3457    0]\n",
            " [   0  453]]\n",
            "\n",
            "Accuracy:  1.0\n"
          ]
        }
      ],
      "source": [
        "from sklearn.metrics import confusion_matrix,classification_report, accuracy_score\n",
        "\n",
        "# On training data\n",
        "y_pred = classifier.predict(X_train)\n",
        "print(classification_report(Y_train, y_pred))\n",
        "print()\n",
        "print(\"Confusion Matrix: \\n\", confusion_matrix(Y_train, y_pred))\n",
        "print()\n",
        "print(\"Accuracy: \", accuracy_score(Y_train, y_pred))"
      ]
    },
    {
      "cell_type": "code",
      "execution_count": 26,
      "metadata": {
        "colab": {
          "base_uri": "https://localhost:8080/",
          "height": 277
        },
        "id": "4QtZywSsOr6X",
        "outputId": "117e90b2-7c7e-4ec3-e309-9e1feb13eebc"
      },
      "outputs": [
        {
          "name": "stdout",
          "output_type": "stream",
          "text": [
            "              precision    recall  f1-score   support\n",
            "\n",
            "           0       0.98      1.00      0.99       865\n",
            "           1       0.99      0.83      0.90       113\n",
            "\n",
            "    accuracy                           0.98       978\n",
            "   macro avg       0.98      0.92      0.95       978\n",
            "weighted avg       0.98      0.98      0.98       978\n",
            "\n",
            "\n",
            "Confusion Matrix: \n",
            " [[864   1]\n",
            " [ 19  94]]\n",
            "\n",
            "Accuracy:  0.9795501022494888\n"
          ]
        }
      ],
      "source": [
        "from sklearn.metrics import confusion_matrix, classification_report, accuracy_score\n",
        "\n",
        "# On validation data\n",
        "y_pred = classifier.predict(x_validation)\n",
        "print(classification_report(y_validation, y_pred))\n",
        "print()\n",
        "print(\"Confusion Matrix: \\n\", confusion_matrix(y_validation, y_pred))\n",
        "print()\n",
        "print(\"Accuracy: \", accuracy_score(y_validation, y_pred)) "
      ]
    },
    {
      "cell_type": "markdown",
      "metadata": {
        "id": "pXkx7lkfjNbp"
      },
      "source": [
        "##**7. Multinomial Naive Bayes**"
      ]
    },
    {
      "cell_type": "code",
      "execution_count": 27,
      "metadata": {
        "colab": {
          "base_uri": "https://localhost:8080/",
          "height": 34
        },
        "id": "XxBUu4PvjBlx",
        "outputId": "9553ec70-b63e-41b4-e925-1988764a9b3d"
      },
      "outputs": [
        {
          "data": {
            "text/plain": [
              "MultinomialNB(alpha=3.0, class_prior=None, fit_prior=True)"
            ]
          },
          "execution_count": 27,
          "metadata": {
            "tags": []
          },
          "output_type": "execute_result"
        }
      ],
      "source": [
        "# Creating Multinomial Naive Bayes Model\n",
        "classifier2 = MultinomialNB(alpha=3.0)\n",
        "classifier2.fit(X_train, Y_train)"
      ]
    },
    {
      "cell_type": "markdown",
      "metadata": {
        "id": "TREqNfpyj7FU"
      },
      "source": [
        "##**8. Model Metrics (Multinomial NB)**"
      ]
    },
    {
      "cell_type": "code",
      "execution_count": 28,
      "metadata": {
        "colab": {
          "base_uri": "https://localhost:8080/",
          "height": 277
        },
        "id": "e4inyQ_AjRdA",
        "outputId": "3407e539-2019-4b66-8145-3cd93c28ead4"
      },
      "outputs": [
        {
          "name": "stdout",
          "output_type": "stream",
          "text": [
            "              precision    recall  f1-score   support\n",
            "\n",
            "           0       0.99      1.00      0.99      3457\n",
            "           1       0.99      0.91      0.95       453\n",
            "\n",
            "    accuracy                           0.99      3910\n",
            "   macro avg       0.99      0.96      0.97      3910\n",
            "weighted avg       0.99      0.99      0.99      3910\n",
            "\n",
            "\n",
            "Confusion Matrix: \n",
            " [[3453    4]\n",
            " [  39  414]]\n",
            "\n",
            "Accuracy:  0.9890025575447571\n"
          ]
        }
      ],
      "source": [
        "# On training data\n",
        "y_pred = classifier2.predict(X_train)\n",
        "print(classification_report(Y_train, y_pred))\n",
        "print()\n",
        "print(\"Confusion Matrix: \\n\", confusion_matrix(Y_train, y_pred))\n",
        "print()\n",
        "print(\"Accuracy: \", accuracy_score(Y_train, y_pred))"
      ]
    },
    {
      "cell_type": "code",
      "execution_count": 29,
      "metadata": {
        "colab": {
          "base_uri": "https://localhost:8080/",
          "height": 277
        },
        "id": "nUM-RtsqjRhx",
        "outputId": "d0824cba-6e23-46ee-912c-e0db689c6031"
      },
      "outputs": [
        {
          "name": "stdout",
          "output_type": "stream",
          "text": [
            "              precision    recall  f1-score   support\n",
            "\n",
            "           0       0.98      0.98      0.98       865\n",
            "           1       0.87      0.88      0.88       113\n",
            "\n",
            "    accuracy                           0.97       978\n",
            "   macro avg       0.93      0.93      0.93       978\n",
            "weighted avg       0.97      0.97      0.97       978\n",
            "\n",
            "\n",
            "Confusion Matrix: \n",
            " [[850  15]\n",
            " [ 13 100]]\n",
            "\n",
            "Accuracy:  0.9713701431492843\n"
          ]
        }
      ],
      "source": [
        "# On validation data\n",
        "y_pred = classifier2.predict(x_validation)\n",
        "print(classification_report(y_validation, y_pred))\n",
        "print()\n",
        "print(\"Confusion Matrix: \\n\", confusion_matrix(y_validation, y_pred))\n",
        "print()\n",
        "print(\"Accuracy: \", accuracy_score(y_validation, y_pred)) "
      ]
    },
    {
      "cell_type": "markdown",
      "metadata": {
        "id": "HOHOC2Kck3V6"
      },
      "source": [
        "It is clear that SVM performs best for this task, so we'll load it into a pickle file and download it for deployment."
      ]
    },
    {
      "cell_type": "markdown",
      "metadata": {
        "id": "JnJx--TDdbzn"
      },
      "source": [
        "##**9. Saving Model**\n",
        "\n",
        "We'll save the model using a pickel and load it in our local system."
      ]
    },
    {
      "cell_type": "code",
      "execution_count": 30,
      "metadata": {
        "id": "HFR4qPWSPo3U"
      },
      "outputs": [],
      "source": [
        "import pickle\n",
        "\n",
        "# Creating a pickle file for the classifier\n",
        "filename = 'spam-detection-svm.pkl'\n",
        "pickle.dump(classifier, open(filename, 'wb')) "
      ]
    },
    {
      "cell_type": "markdown",
      "metadata": {
        "id": "fY7ytIgBfoVw"
      },
      "source": [
        "##**10. Summary and Conclusion**\n",
        "\n",
        "- We used Bag of Words to form a word token matrix.\n",
        "- We used 7 different Machine Learning Algorithms.\n",
        "- Implemented GridSearchCV and ShuffleSplit to find best fitting parameters.\n",
        "- We also evaluated model metrics to check performance\n",
        "- SVM performed the best.\n",
        "- Below is a clean table with scores obtained in Hyperparameter findings."
      ]
    },
    {
      "cell_type": "code",
      "execution_count": 32,
      "metadata": {
        "colab": {
          "base_uri": "https://localhost:8080/",
          "height": 207
        },
        "id": "fdvSZ9N_ejLC",
        "outputId": "7ca539cf-bf63-4791-f97a-305cb09d0d29"
      },
      "outputs": [
        {
          "name": "stdout",
          "output_type": "stream",
          "text": [
            "+--------------------------+----------+\n",
            "|        Model Used        | Accuracy |\n",
            "+--------------------------+----------+\n",
            "|   Logistic Regression    |  0.9729  |\n",
            "| Decision Tree Classifier |  0.9481  |\n",
            "| Random Forest Classifier |  0.9621  |\n",
            "|  Support Vector Machine  |  0.9757  |\n",
            "| Multinomial Naive Bayes  |  0.9725  |\n",
            "|     KnearestNeighbor     |  0.9336  |\n",
            "|  Extra Tree Classifier   |  0.9369  |\n",
            "+--------------------------+----------+\n"
          ]
        }
      ],
      "source": [
        "from prettytable import PrettyTable\n",
        "\n",
        "x = PrettyTable()\n",
        "x.field_names = [\"Model Used\", \"Accuracy\"]\n",
        "\n",
        "x.add_row([\"Logistic Regression\", 0.9729])\n",
        "x.add_row([\"Decision Tree Classifier\", 0.9481])\n",
        "x.add_row([\"Random Forest Classifier\", 0.9621])\n",
        "x.add_row([\"Support Vector Machine\", 0.9757])\n",
        "x.add_row([\"Multinomial Naive Bayes\", 0.9725])\n",
        "x.add_row([\"KnearestNeighbor\", 0.9336])\n",
        "x.add_row([\"Extra Tree Classifier\", 0.9369])\n",
        "\n",
        "print(x)"
      ]
    }
  ],
  "metadata": {
    "accelerator": "GPU",
    "colab": {
      "collapsed_sections": [],
      "name": "Spam_Detection_with_7_ML_Algorithms.ipynb",
      "provenance": []
    },
    "kernelspec": {
      "display_name": "Python 3",
      "name": "python3"
    }
  },
  "nbformat": 4,
  "nbformat_minor": 0
}
